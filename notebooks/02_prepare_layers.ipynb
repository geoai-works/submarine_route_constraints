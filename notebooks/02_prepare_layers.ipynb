{
 "cells": [
  {
   "cell_type": "markdown",
   "id": "4d0007a7",
   "metadata": {},
   "source": [
    "---\n",
    "**Project**: Submarine Route Constraints  \n",
    "**Author**: Alejandra L. Cameselle  \n",
    "**Date**: July 2025  \n",
    "**Notebook**: 02 – Prepare Constraint Layers\n",
    "\n",
    "### Description\n",
    "This notebook prepares the spatial constraint layers used for submarine cable routing analysis. It ensures that all layers are clipped to the AOI and stored in a unified format.\n",
    "\n",
    "### Inputs\n",
    "- `aoi.gpkg`: Area of interest polygon  \n",
    "- Multiple `*.gpkg` constraint layers in `inputs/`\n",
    "\n",
    "### Processing\n",
    "- Load and check CRS consistency  \n",
    "- Clip all layers to AOI  \n",
    "- Save clean outputs to `processed_data/constraints/`\n",
    "\n",
    "### Outputs\n",
    "- Clipped and cleaned constraint layers in GPKG format\n",
    "\n",
    "### Dependencies\n",
    "- geopandas, shapely, os, fiona\n",
    "---"
   ]
  },
  {
   "cell_type": "code",
   "execution_count": 1,
   "id": "12758ba5-2047-443e-b831-22532ff965a6",
   "metadata": {},
   "outputs": [],
   "source": [
    "# Load libraries\n",
    "import geopandas as gpd\n",
    "from pathlib import Path"
   ]
  },
  {
   "cell_type": "code",
   "execution_count": 2,
   "id": "ce6084b5-6870-4446-900a-ba54ab1c5761",
   "metadata": {},
   "outputs": [],
   "source": [
    "# Define input and output directories\n",
    "input_dir = Path(\"../inputs\")\n",
    "output_dir = Path(\"../processed_data/constraints\")\n",
    "output_dir.mkdir(parents=True, exist_ok=True)"
   ]
  },
  {
   "cell_type": "code",
   "execution_count": 3,
   "id": "e15cc37d-e0d6-49b7-b557-977826a0fc3e",
   "metadata": {},
   "outputs": [
    {
     "name": "stdout",
     "output_type": "stream",
     "text": [
      "Processed: fishing_areas.gpkg → fishing_areas_clipped.gpkg\n",
      "Processed: natura2000.gpkg → natura2000_clipped.gpkg\n",
      "Processed: rocky_outcrops.gpkg → rocky_outcrops_clipped.gpkg\n",
      "Processed: coralligenous_outcrops.gpkg → coralligenous_outcrops_clipped.gpkg\n",
      "Processed: wrecks.gpkg → wrecks_clipped.gpkg\n",
      "Processed: military_areas.gpkg → military_areas_clipped.gpkg\n",
      "Processed: telecom_cables_dummy.gpkg → telecom_cables_dummy_clipped.gpkg\n",
      "Processed: pockmarks.gpkg → pockmarks_clipped.gpkg\n",
      "Processed: mud_mounts.gpkg → mud_mounts_clipped.gpkg\n",
      "Processed: fluid_emissions.gpkg → fluid_emissions_clipped.gpkg\n"
     ]
    }
   ],
   "source": [
    "# Load AOI and clip all constraint layers to that AOI\n",
    "\n",
    "# Load the Area of Interest\n",
    "aoi = gpd.read_file(input_dir / \"aoi.gpkg\")\n",
    "aoi_crs = aoi.crs\n",
    "\n",
    "# Iterate over all .gpkg in input_dir (skip the AOI itself)\n",
    "for file in input_dir.glob(\"*.gpkg\"):\n",
    "    if file.name == \"aoi.gpkg\":\n",
    "        continue\n",
    "\n",
    "    layer_name = file.stem\n",
    "    gdf = gpd.read_file(file)\n",
    "\n",
    "    # Reproject if CRS differs\n",
    "    if gdf.crs != aoi_crs:\n",
    "        gdf = gdf.to_crs(aoi_crs)\n",
    "\n",
    "    # Clip the layer to the AOI footprint\n",
    "    clipped = gpd.clip(gdf, aoi)\n",
    "\n",
    "    # Save the clipped result\n",
    "    out_fp = output_dir / f\"{layer_name}_clipped.gpkg\"\n",
    "    clipped.to_file(out_fp, driver=\"GPKG\")\n",
    "    print(f\"Processed: {file.name} → {out_fp.name}\")"
   ]
  },
  {
   "cell_type": "code",
   "execution_count": null,
   "id": "c067ad91-80b6-477f-abe4-664152763a71",
   "metadata": {},
   "outputs": [],
   "source": []
  }
 ],
 "metadata": {
  "kernelspec": {
   "display_name": "Python 3 (ipykernel)",
   "language": "python",
   "name": "python3"
  },
  "language_info": {
   "codemirror_mode": {
    "name": "ipython",
    "version": 3
   },
   "file_extension": ".py",
   "mimetype": "text/x-python",
   "name": "python",
   "nbconvert_exporter": "python",
   "pygments_lexer": "ipython3",
   "version": "3.13.5"
  }
 },
 "nbformat": 4,
 "nbformat_minor": 5
}
