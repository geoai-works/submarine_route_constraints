{
 "cells": [
  {
   "cell_type": "markdown",
   "id": "cdf6667e",
   "metadata": {},
   "source": [
    "---\n",
    "**Project**: Cable Burial Operability  \n",
    "**Notebook**: 01 – Generate Grid  \n",
    "**Author**: Alejandra L. Cameselle  \n",
    "**Date**: June 2025  \n",
    "\n",
    "### Description\n",
    "This notebook generates a fishnet grid over the Area of Interest (AOI) and assigns unique IDs to each cell. This grid will be used in subsequent analyses of bathymetry, slope and burial risk assessment.\n",
    "\n",
    "### Inputs\n",
    "- `aoi.gpkg`: AOI polygon\n",
    "- `cell_size`: Desired spacing between grid cells in meters\n",
    "\n",
    "### Outputs\n",
    "- `01_grid.gpkg`: Regular grid clipped to AOI with cell ID\n",
    "\n",
    "### Dependencies\n",
    "- geopandas, shapely, matplotlib\n",
    "---\n"
   ]
  },
  {
   "cell_type": "code",
   "execution_count": 1,
   "id": "e81d71ce-7004-40d5-a41f-9440e84bebdb",
   "metadata": {},
   "outputs": [],
   "source": [
    "# Import required libraries\n",
    "import os\n",
    "import numpy as np\n",
    "import geopandas as gpd\n",
    "from shapely.geometry import box"
   ]
  },
  {
   "cell_type": "code",
   "execution_count": 2,
   "id": "6978f77d-4ff7-4877-9c24-78fd407908f3",
   "metadata": {},
   "outputs": [],
   "source": [
    "# Load the Area of Interest (AOI) from the GeoPackage as GeoDataFrame\n",
    "aoi = gpd.read_file(\"../inputs/aoi.gpkg\")"
   ]
  },
  {
   "cell_type": "code",
   "execution_count": 3,
   "id": "cd4c1f0f-66df-4851-b0e1-2ad46f958e3a",
   "metadata": {},
   "outputs": [],
   "source": [
    "# Reproject to EPSG:25829 (ETRS89 / UTM zone 29N) if needed\n",
    "if aoi.crs.to_epsg() != 25829:\n",
    "    aoi = aoi.to_crs(epsg=25829)"
   ]
  },
  {
   "cell_type": "code",
   "execution_count": 4,
   "id": "16ad2dc4-10fc-46b8-a56e-aa08e9dddbfb",
   "metadata": {},
   "outputs": [],
   "source": [
    "# Define grid parameters\n",
    "cell_size = 100  # in meters\n",
    "minx, miny, maxx, maxy = aoi.total_bounds"
   ]
  },
  {
   "cell_type": "code",
   "execution_count": 5,
   "id": "9a60e95a-436c-448b-b28e-d02364a2a7dc",
   "metadata": {},
   "outputs": [],
   "source": [
    "# Create a list os square grid cells covering the bounding box\n",
    "grid_cells = []\n",
    "for x in np.arange(minx, maxx, cell_size):\n",
    "    for y in np.arange(miny, maxy, cell_size):\n",
    "        grid_cells.append(box(x, y, x + cell_size, y + cell_size))"
   ]
  },
  {
   "cell_type": "code",
   "execution_count": 6,
   "id": "88ddc61d-3ad6-44e4-a856-5f6b83834aa9",
   "metadata": {},
   "outputs": [],
   "source": [
    "# Convert list of boxes to a GeoDataFrame\n",
    "grid = gpd.GeoDataFrame(geometry=grid_cells, crs=aoi.crs)"
   ]
  },
  {
   "cell_type": "code",
   "execution_count": 7,
   "id": "091ef30f-8dc9-488a-99c9-70394737bcb2",
   "metadata": {},
   "outputs": [],
   "source": [
    "# Create mask column with centroids within AOI\n",
    "aoi_union = aoi.geometry.union_all()\n",
    "grid[\"inside_aoi\"] = grid.geometry.centroid.within(aoi_union)"
   ]
  },
  {
   "cell_type": "code",
   "execution_count": 8,
   "id": "dd4074e1-2b74-4e18-b8f1-e75001308543",
   "metadata": {},
   "outputs": [
    {
     "name": "stdout",
     "output_type": "stream",
     "text": [
      "Grid saved with 565468 cells — 540242 inside AOI\n"
     ]
    }
   ],
   "source": [
    "# Save result as GeoPackage\n",
    "os.makedirs(\"../processed_data\", exist_ok=True)\n",
    "fname = f\"../processed_data/01_grid_{cell_size}m.gpkg\"\n",
    "layer = f\"01_grid_{cell_size}m\"\n",
    "grid.to_file(fname, layer=layer, driver=\"GPKG\")\n",
    "\n",
    "print(f\"Grid saved with {len(grid)} cells — {grid['inside_aoi'].sum()} inside AOI\")"
   ]
  },
  {
   "cell_type": "code",
   "execution_count": null,
   "id": "ecdee127-f0a8-4e4b-8156-26d3fd58507b",
   "metadata": {},
   "outputs": [],
   "source": []
  }
 ],
 "metadata": {
  "kernelspec": {
   "display_name": "Python 3 (ipykernel)",
   "language": "python",
   "name": "python3"
  },
  "language_info": {
   "codemirror_mode": {
    "name": "ipython",
    "version": 3
   },
   "file_extension": ".py",
   "mimetype": "text/x-python",
   "name": "python",
   "nbconvert_exporter": "python",
   "pygments_lexer": "ipython3",
   "version": "3.13.5"
  }
 },
 "nbformat": 4,
 "nbformat_minor": 5
}
